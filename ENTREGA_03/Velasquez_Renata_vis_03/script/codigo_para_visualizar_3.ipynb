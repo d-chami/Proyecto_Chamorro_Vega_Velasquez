{
  "nbformat": 4,
  "nbformat_minor": 0,
  "metadata": {
    "colab": {
      "provenance": []
    },
    "kernelspec": {
      "name": "python3",
      "display_name": "Python 3"
    },
    "language_info": {
      "name": "python"
    }
  },
  "cells": [
    {
      "cell_type": "code",
      "source": [
        "import pandas as pd\n",
        "import altair as alt\n",
        "from IPython.display import display\n",
        "\n",
        "\n",
        "try:\n",
        "    df = pd.read_csv('/content/drive/MyDrive/csvs/llantoxprotagonismo.csv')\n",
        "except FileNotFoundError:\n",
        "    print(\"Error: The file 'llantoxprotagonismo.csv' was not found. Please check the path.\")\n",
        "    df = None\n",
        "\n",
        "if df is not None:\n",
        "\n",
        "    df_long = df.melt(id_vars='Personaje', var_name='Tipo', value_name='Cantidad')\n",
        "\n",
        "\n",
        "    df_long['Personaje'] = df_long['Personaje'].str.encode('latin1', errors='ignore').str.decode('utf-8', errors='ignore')\n",
        "\n",
        "\n",
        "    df_long = df_long.dropna(subset=['Cantidad'])\n",
        "\n",
        "\n",
        "    df_sum = df_long.groupby(['Personaje', 'Tipo'], as_index=False)['Cantidad'].sum()\n",
        "\n",
        "\n",
        "    chart = alt.Chart(df_sum).mark_bar().encode(\n",
        "        x=alt.X('Personaje:N', title='Personaje'),\n",
        "        y=alt.Y('Cantidad:Q', title='Segundos totales'),\n",
        "        color=alt.Color('Tipo:N', title='Tipo de protagonismo'),\n",
        "        tooltip=['Personaje', 'Tipo', 'Cantidad']\n",
        "    ).properties(\n",
        "        title='Segundos de llanto por personaje y tipo de protagonismo',\n",
        "        width=600,\n",
        "        height=400\n",
        "    )\n",
        "\n",
        "\n",
        "    display(chart)"
      ],
      "metadata": {
        "colab": {
          "base_uri": "https://localhost:8080/",
          "height": 553
        },
        "id": "2Il9CzkqUb7H",
        "outputId": "677de989-848e-4d27-f6f1-4ca2e72c0e5d"
      },
      "execution_count": 9,
      "outputs": [
        {
          "output_type": "display_data",
          "data": {
            "text/html": [
              "\n",
              "<style>\n",
              "  #altair-viz-a357fd0bcdc245c59b6ef0757e2451f9.vega-embed {\n",
              "    width: 100%;\n",
              "    display: flex;\n",
              "  }\n",
              "\n",
              "  #altair-viz-a357fd0bcdc245c59b6ef0757e2451f9.vega-embed details,\n",
              "  #altair-viz-a357fd0bcdc245c59b6ef0757e2451f9.vega-embed details summary {\n",
              "    position: relative;\n",
              "  }\n",
              "</style>\n",
              "<div id=\"altair-viz-a357fd0bcdc245c59b6ef0757e2451f9\"></div>\n",
              "<script type=\"text/javascript\">\n",
              "  var VEGA_DEBUG = (typeof VEGA_DEBUG == \"undefined\") ? {} : VEGA_DEBUG;\n",
              "  (function(spec, embedOpt){\n",
              "    let outputDiv = document.currentScript.previousElementSibling;\n",
              "    if (outputDiv.id !== \"altair-viz-a357fd0bcdc245c59b6ef0757e2451f9\") {\n",
              "      outputDiv = document.getElementById(\"altair-viz-a357fd0bcdc245c59b6ef0757e2451f9\");\n",
              "    }\n",
              "\n",
              "    const paths = {\n",
              "      \"vega\": \"https://cdn.jsdelivr.net/npm/vega@5?noext\",\n",
              "      \"vega-lib\": \"https://cdn.jsdelivr.net/npm/vega-lib?noext\",\n",
              "      \"vega-lite\": \"https://cdn.jsdelivr.net/npm/vega-lite@5.20.1?noext\",\n",
              "      \"vega-embed\": \"https://cdn.jsdelivr.net/npm/vega-embed@6?noext\",\n",
              "    };\n",
              "\n",
              "    function maybeLoadScript(lib, version) {\n",
              "      var key = `${lib.replace(\"-\", \"\")}_version`;\n",
              "      return (VEGA_DEBUG[key] == version) ?\n",
              "        Promise.resolve(paths[lib]) :\n",
              "        new Promise(function(resolve, reject) {\n",
              "          var s = document.createElement('script');\n",
              "          document.getElementsByTagName(\"head\")[0].appendChild(s);\n",
              "          s.async = true;\n",
              "          s.onload = () => {\n",
              "            VEGA_DEBUG[key] = version;\n",
              "            return resolve(paths[lib]);\n",
              "          };\n",
              "          s.onerror = () => reject(`Error loading script: ${paths[lib]}`);\n",
              "          s.src = paths[lib];\n",
              "        });\n",
              "    }\n",
              "\n",
              "    function showError(err) {\n",
              "      outputDiv.innerHTML = `<div class=\"error\" style=\"color:red;\">${err}</div>`;\n",
              "      throw err;\n",
              "    }\n",
              "\n",
              "    function displayChart(vegaEmbed) {\n",
              "      vegaEmbed(outputDiv, spec, embedOpt)\n",
              "        .catch(err => showError(`Javascript Error: ${err.message}<br>This usually means there's a typo in your chart specification. See the javascript console for the full traceback.`));\n",
              "    }\n",
              "\n",
              "    if(typeof define === \"function\" && define.amd) {\n",
              "      requirejs.config({paths});\n",
              "      let deps = [\"vega-embed\"];\n",
              "      require(deps, displayChart, err => showError(`Error loading script: ${err.message}`));\n",
              "    } else {\n",
              "      maybeLoadScript(\"vega\", \"5\")\n",
              "        .then(() => maybeLoadScript(\"vega-lite\", \"5.20.1\"))\n",
              "        .then(() => maybeLoadScript(\"vega-embed\", \"6\"))\n",
              "        .catch(showError)\n",
              "        .then(() => displayChart(vegaEmbed));\n",
              "    }\n",
              "  })({\"config\": {\"view\": {\"continuousWidth\": 300, \"continuousHeight\": 300}}, \"data\": {\"name\": \"data-eb2ba205eba8b473ebd544f4732e466b\"}, \"mark\": {\"type\": \"bar\"}, \"encoding\": {\"color\": {\"field\": \"Tipo\", \"title\": \"Tipo de protagonismo\", \"type\": \"nominal\"}, \"tooltip\": [{\"field\": \"Personaje\", \"type\": \"nominal\"}, {\"field\": \"Tipo\", \"type\": \"nominal\"}, {\"field\": \"Cantidad\", \"type\": \"quantitative\"}], \"x\": {\"field\": \"Personaje\", \"title\": \"Personaje\", \"type\": \"nominal\"}, \"y\": {\"field\": \"Cantidad\", \"title\": \"Segundos totales\", \"type\": \"quantitative\"}}, \"height\": 400, \"title\": \"Segundos de llanto por personaje y tipo de protagonismo\", \"width\": 600, \"$schema\": \"https://vega.github.io/schema/vega-lite/v5.20.1.json\", \"datasets\": {\"data-eb2ba205eba8b473ebd544f4732e466b\": [{\"Personaje\": \"Beb\\u00c3\\u0083\\u00c2\\u00a9\", \"Tipo\": \"Incidental\", \"Cantidad\": 7.0}, {\"Personaje\": \"Bo\", \"Tipo\": \"Secundario\", \"Cantidad\": 30.0}, {\"Personaje\": \"Chihiro\", \"Tipo\": \"Protagonista\", \"Cantidad\": 128.0}, {\"Personaje\": \"Fio\", \"Tipo\": \"Secundario\", \"Cantidad\": 13.0}, {\"Personaje\": \"Himi\", \"Tipo\": \"Protagonista\", \"Cantidad\": 9.0}, {\"Personaje\": \"Hombre\", \"Tipo\": \"Incidental\", \"Cantidad\": 23.0}, {\"Personaje\": \"Howl\", \"Tipo\": \"Protagonista\", \"Cantidad\": 34.0}, {\"Personaje\": \"Jiro\", \"Tipo\": \"Protagonista\", \"Cantidad\": 12.0}, {\"Personaje\": \"Junior\", \"Tipo\": \"Incidental\", \"Cantidad\": 29.0}, {\"Personaje\": \"Kaya\", \"Tipo\": \"Incidental\", \"Cantidad\": 11.0}, {\"Personaje\": \"Kayo\", \"Tipo\": \"Secundario\", \"Cantidad\": 10.0}, {\"Personaje\": \"Kiki\", \"Tipo\": \"Protagonista\", \"Cantidad\": 63.0}, {\"Personaje\": \"Kiriko\", \"Tipo\": \"Secundario\", \"Cantidad\": 3.0}, {\"Personaje\": \"Kumiko\", \"Tipo\": \"Incidental\", \"Cantidad\": 12.0}, {\"Personaje\": \"Kurokawa\", \"Tipo\": \"Secundario\", \"Cantidad\": 2.0}, {\"Personaje\": \"Mahito\", \"Tipo\": \"Protagonista\", \"Cantidad\": 39.0}, {\"Personaje\": \"Mei\", \"Tipo\": \"Protagonista\", \"Cantidad\": 53.0}, {\"Personaje\": \"Nahoko Satomi\", \"Tipo\": \"Protagonista\", \"Cantidad\": 8.0}, {\"Personaje\": \"Natsuko\", \"Tipo\": \"Secundario\", \"Cantidad\": 3.0}, {\"Personaje\": \"Osono\", \"Tipo\": \"Secundario\", \"Cantidad\": 4.0}, {\"Personaje\": \"Padre de Nahoko\", \"Tipo\": \"Secundario\", \"Cantidad\": 6.0}, {\"Personaje\": \"Periquitos\", \"Tipo\": \"Secundario\", \"Cantidad\": 3.0}, {\"Personaje\": \"Satsuki\", \"Tipo\": \"Protagonista\", \"Cantidad\": 39.0}, {\"Personaje\": \"Sheeta\", \"Tipo\": \"Protagonista\", \"Cantidad\": 2.0}, {\"Personaje\": \"Sophie\", \"Tipo\": \"Protagonista\", \"Cantidad\": 88.0}, {\"Personaje\": \"Sosuke\", \"Tipo\": \"Protagonista\", \"Cantidad\": 60.0}]}}, {\"mode\": \"vega-lite\"});\n",
              "</script>"
            ],
            "text/plain": [
              "alt.Chart(...)"
            ]
          },
          "metadata": {}
        }
      ]
    }
  ]
}